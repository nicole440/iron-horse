{
 "cells": [
  {
   "cell_type": "markdown",
   "metadata": {},
   "source": [
    "## Lou Gehrig's Career (in core Python)"
   ]
  },
  {
   "cell_type": "markdown",
   "metadata": {},
   "source": [
    "### Create tuple containing all seasons played"
   ]
  },
  {
   "cell_type": "code",
   "execution_count": 9,
   "metadata": {},
   "outputs": [
    {
     "name": "stdout",
     "output_type": "stream",
     "text": [
      "(1923, 1924, 1925, 1926, 1927, 1928, 1929, 1930, 1931, 1932, 1933, 1934, 1935, 1936, 1937, 1938, 1939)\n"
     ]
    }
   ],
   "source": [
    "start_year = 1923\n",
    "end_year = 1939\n",
    "\n",
    "# convert the list comprehension result to a tuple using the tuple() constructor\n",
    "seasons = tuple(year for year in range(start_year, end_year + 1))\n",
    "print(seasons)"
   ]
  },
  {
   "cell_type": "markdown",
   "metadata": {},
   "source": [
    "### Create tuple containing age during each season"
   ]
  },
  {
   "cell_type": "code",
   "execution_count": 10,
   "metadata": {},
   "outputs": [
    {
     "name": "stdout",
     "output_type": "stream",
     "text": [
      "(20, 21, 22, 23, 24, 25, 26, 27, 28, 29, 30, 31, 32, 33, 34, 35, 36)\n"
     ]
    }
   ],
   "source": [
    "start_age = 20\n",
    "end_age = 36\n",
    "\n",
    "# convert the list comprehension result to a tuple using the tuple() constructor\n",
    "age_tuple = tuple(age for age in range(start_age, end_age + 1))\n",
    "print(age_tuple)"
   ]
  },
  {
   "cell_type": "markdown",
   "metadata": {},
   "source": [
    "### Create tuples containing stats for each season"
   ]
  },
  {
   "cell_type": "code",
   "execution_count": 11,
   "metadata": {},
   "outputs": [],
   "source": [
    "games_played = (13, 10, 126, 155, 155, 154, 154, 154, 155, 156, 152, 154, 149, 155, 157, 157, 8)\n",
    "at_bats = (26, 12, 437, 572, 584, 562, 553, 581, 619, 596, 593, 579, 535, 579, 569, 576, 28)\n",
    "runs = (6, 2, 73, 135, 149, 139, 127, 143, 163, 138, 138, 128, 125, 167, 138, 115, 2)\n",
    "hits = (11, 6, 129, 179, 218, 210, 166, 220, 211, 208, 198, 210, 176, 205, 200, 170, 4)\n",
    "doubles = (4, 1, 23, 47, 52, 47, 32, 42, 31, 42, 41, 40, 26, 37, 37, 32, 0)\n",
    "triples = (1, 0, 10, 20, 18, 13, 10, 17, 15, 9, 12, 6, 10, 7, 9, 6, 0)\n",
    "homeruns = (1, 0, 20, 16, 47, 27, 35, 41, 46, 34, 32, 49, 30, 49, 37, 29, 0)\n",
    "grand_slams = (0, 0, 1, 0, 2, 1, 2, 2, 3, 2, 0, 4, 2, 2, 1, 1, 0)\n",
    "rbis = (9, 5, 68, 112, 175, 142, 125, 174, 184, 151, 139, 165, 119, 152, 159, 114, 1)\n",
    "bb_walks = (2, 1, 46, 105, 109, 95, 122, 101, 117, 108, 92, 109, 132, 130, 127, 107, 5)\n",
    "ibb_intentional_walks = (0, 0, 3, 0, 9, 3, 9, 3, 14, 7, 4, 13, 21, 9, 13, 6, 0)\n",
    "strikeouts = (5, 3, 49, 73, 84, 69, 68, 63, 56, 38, 42, 31, 38, 46, 49, 75, 1)\n",
    "sacrifice_flies = (0, 0, 0, 0, 0, 0, 0, 0, 0, 0, 0, 0, 0, 0, 0, 0, 0)\n",
    "hit_by_pitch = (0, 0, 2, 1, 3, 4, 5, 3, 0, 3, 1, 2, 5, 7, 4, 5, 0)"
   ]
  },
  {
   "cell_type": "markdown",
   "metadata": {},
   "source": [
    "### Calculate batting average"
   ]
  },
  {
   "cell_type": "code",
   "execution_count": 12,
   "metadata": {},
   "outputs": [
    {
     "name": "stdout",
     "output_type": "stream",
     "text": [
      "[0.423, 0.5, 0.295, 0.313, 0.373, 0.374, 0.3, 0.379, 0.341, 0.349, 0.334, 0.363, 0.329, 0.354, 0.351, 0.295, 0.143]\n"
     ]
    }
   ],
   "source": [
    "season_batting_avg = [] # (H/AB)\n",
    "\n",
    "def calculate_batting_avg(hits, at_bats):\n",
    "    for hits, at_bats in zip(hits, at_bats): # zip tuples to iterate over both simultaneously\n",
    "        season_avg = round(hits / at_bats, 3)\n",
    "        season_batting_avg.append(season_avg)\n",
    "\n",
    "calculate_batting_avg(hits, at_bats)\n",
    "print(season_batting_avg)"
   ]
  },
  {
   "cell_type": "markdown",
   "metadata": {},
   "source": [
    "### Calculate on base percentage"
   ]
  },
  {
   "cell_type": "code",
   "execution_count": 13,
   "metadata": {},
   "outputs": [
    {
     "name": "stdout",
     "output_type": "stream",
     "text": [
      "[0.464, 0.538, 0.365, 0.42, 0.474, 0.467, 0.431, 0.473, 0.446, 0.451, 0.424, 0.465, 0.466, 0.478, 0.473, 0.41, 0.273]\n"
     ]
    }
   ],
   "source": [
    "on_base_percentage = [] # (Hits + Walks + Hit by Pitch) / (At-bats + Walks + Hit by Pitch + Sacrifice Flies)\n",
    "def calculate_on_base_percentage(hits, bb_walks, hit_by_pitch, sacrifice_flies, at_bats):\n",
    "    for hits_season, bb_walks_season, hit_by_pitch_season, sacrifice_flies_season, at_bats_season in zip(hits, bb_walks, hit_by_pitch, sacrifice_flies, at_bats):\n",
    "        obp = (hits_season + bb_walks_season + hit_by_pitch_season) / (at_bats_season + bb_walks_season + hit_by_pitch_season + sacrifice_flies_season)\n",
    "        obp_rounded = round(obp, 3)\n",
    "        on_base_percentage.append(obp_rounded)\n",
    "\n",
    "calculate_on_base_percentage(hits, bb_walks, hit_by_pitch, sacrifice_flies, at_bats)\n",
    "print(on_base_percentage)"
   ]
  },
  {
   "cell_type": "markdown",
   "metadata": {},
   "source": [
    "### Calculate slugging percentage"
   ]
  },
  {
   "cell_type": "code",
   "execution_count": 14,
   "metadata": {},
   "outputs": [
    {
     "name": "stdout",
     "output_type": "stream",
     "text": [
      "[0.769, 0.583, 0.531, 0.549, 0.765, 0.648, 0.584, 0.721, 0.662, 0.621, 0.605, 0.706, 0.583, 0.696, 0.643, 0.523, 0.143]\n"
     ]
    }
   ],
   "source": [
    "slugging_percentage = [] # calculated as (1B + 2*2B + 3*3B + 4*HR) divided by at-bats in that season.\n",
    "def calculate_slugging_percentage(hits, doubles, triples, homeruns, at_bats):\n",
    "    for hits_season, doubles_season, triples_season, homeruns_season, at_bats_season in zip(hits, doubles, triples, homeruns, at_bats):\n",
    "        singles_season = hits_season - (doubles_season + triples_season + homeruns_season)\n",
    "        total_bases = (singles_season + 2 * doubles_season + 3 * triples_season + 4 * homeruns_season)\n",
    "        sp = total_bases / at_bats_season\n",
    "        sp_rounded = round(sp, 3)\n",
    "        slugging_percentage.append(sp_rounded)\n",
    "\n",
    "calculate_slugging_percentage(hits, doubles, triples, homeruns, at_bats)\n",
    "print(slugging_percentage)"
   ]
  }
 ],
 "metadata": {
  "kernelspec": {
   "display_name": "Python 3",
   "language": "python",
   "name": "python3"
  },
  "language_info": {
   "codemirror_mode": {
    "name": "ipython",
    "version": 3
   },
   "file_extension": ".py",
   "mimetype": "text/x-python",
   "name": "python",
   "nbconvert_exporter": "python",
   "pygments_lexer": "ipython3",
   "version": "3.11.3"
  },
  "orig_nbformat": 4
 },
 "nbformat": 4,
 "nbformat_minor": 2
}
