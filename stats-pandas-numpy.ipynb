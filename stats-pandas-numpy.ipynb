{
 "cells": [
  {
   "cell_type": "markdown",
   "metadata": {},
   "source": [
    "## Lou Gehrig's Career (using Pandas & NumPy)"
   ]
  },
  {
   "cell_type": "code",
   "execution_count": 84,
   "metadata": {},
   "outputs": [],
   "source": [
    "import pandas as pd\n",
    "import numpy as np\n",
    "import csv"
   ]
  },
  {
   "cell_type": "code",
   "execution_count": 85,
   "metadata": {},
   "outputs": [],
   "source": [
    "start_year = 1923\n",
    "end_year = 1939\n",
    "\n",
    "start_age = 20\n",
    "end_age = 36\n",
    "\n",
    "hitting_data = {\n",
    "    'season': tuple(year for year in range(start_year, end_year + 1)),\n",
    "    'age': tuple(age for age in range(start_age, end_age + 1)),\n",
    "    'games_played': (13, 10, 126, 155, 155, 154, 154, 154, 155, 156, 152, 154, 149, 155, 157, 157, 8),\n",
    "    'at_bats': (26, 12, 437, 572, 584, 562, 553, 581, 619, 596, 593, 579, 535, 579, 569, 576, 28),\n",
    "    'runs': (6, 2, 73, 135, 149, 139, 127, 143, 163, 138, 138, 128, 125, 167, 138, 115, 2),\n",
    "    'hits': (11, 6, 129, 179, 218, 210, 166, 220, 211, 208, 198, 210, 176, 205, 200, 170, 4),\n",
    "    'doubles': (4, 1, 23, 47, 52, 47, 32, 42, 31, 42, 41, 40, 26, 37, 37, 32, 0),\n",
    "    'triples': (1, 0, 10, 20, 18, 13, 10, 17, 15, 9, 12, 6, 10, 7, 9, 6, 0),\n",
    "    'homeruns': (1, 0, 20, 16, 47, 27, 35, 41, 46, 34, 32, 49, 30, 49, 37, 29, 0),\n",
    "    'grand_slams': (0, 0, 1, 0, 2, 1, 2, 2, 3, 2, 0, 4, 2, 2, 1, 1, 0),\n",
    "    'rbis': (9, 5, 68, 112, 175, 142, 125, 174, 184, 151, 139, 165, 119, 152, 159, 114, 1),\n",
    "    'bb_walks': (2, 1, 46, 105, 109, 95, 122, 101, 117, 108, 92, 109, 132, 130, 127, 107, 5),\n",
    "    'ibb_intentional_walks': (0, 0, 3, 0, 9, 3, 9, 3, 14, 7, 4, 13, 21, 9, 13, 6, 0),\n",
    "    'strikeouts': (5, 3, 49, 73, 84, 69, 68, 63, 56, 38, 42, 31, 38, 46, 49, 75, 1),\n",
    "    'sacrifice_flies': (0, 0, 0, 0, 0, 0, 0, 0, 0, 0, 0, 0, 0, 0, 0, 0, 0),\n",
    "    'hit_by_pitch': (0, 0, 2, 1, 3, 4, 5, 3, 0, 3, 1, 2, 5, 7, 4, 5, 0)\n",
    "}\n",
    "\n",
    "hitting_df = pd.DataFrame.from_dict(hitting_data)\n",
    "\n",
    "hitting_df.to_csv('hitting_data.csv', header=True, index=False)"
   ]
  },
  {
   "cell_type": "code",
   "execution_count": 86,
   "metadata": {},
   "outputs": [],
   "source": [
    "fielding_data = {\n",
    "    'season': (1923, 1924, 1924, 1925, 1925, 1925, 1926, 1927, 1928, 1929, 1930, 1930, 1931, 1931, 1932, 1933, 1934, 1934, 1935, 1936, 1937, 1938, 1939),\n",
    "    'position': ('1B', '1B', 'RF', '1B', 'LF', 'RF', '1B', '1B', '1B', '1B', '1B', 'LF', '1B', 'RF', '1B', '1B', '1B', 'SS', '1B', '1B', '1B', '1B', '1B'),\n",
    "    'games_played': (9, 2, 1, 114, 2, 4, 155, 155, 154, 154, 153, 1, 154, 1, 156, 152, 153, 1, 149, 155, 157, 157, 8),\n",
    "    'games_started': (4, 0, 0, 112, 2, 3, 155, 155, 154, 154, 153, 1, 154, 1, 156, 152, 153, 1, 149, 155, 157, 157, 8),\n",
    "    'outs': (123, 51, 21, 2778, 24, 75, 4563, 459, 4473, 405, 3906, 27, 162, 27, 444, 396, 4014, 14, 3843, 453, 459, 4533, 213),\n",
    "    'total_chances': (60, 10, 1, 1192, 3, 8, 1654, 1765, 1585, 1549, 1402, 2, 1423, 4, 1386, 1363, 1372, 0, 1434, 1468, 1460, 1597, 70), # Sum of putouts (PO), assists (A), and errors (E)\n",
    "    'total_chances_per_game': (6.7, 5.0, 1.0, 10.5, 1.5, 2.0, 10.7, 11.4, 10.3, 10.1, 9.2, 2.0, 9.2, 4.0, 8.9, 9.0, 9.0, 0, 9.6, 9.5, 9.3, 10.2, 8.8),\n",
    "    'chances': (56, 10, 1, 1179, 3, 6, 1639, 1750, 1567, 1540, 1387, 2, 1410, 3, 1368, 1354, 1364, 0, 1419, 1459, 1444, 1583, 68), # Sum of the putouts (PO) and assists (A)\n",
    "    'putouts': (53, 9, 1, 1126, 3, 6, 1566, 1662, 1488, 1458, 1298, 2, 1352, 3, 1293, 1290, 1284, 0, 1337, 1377, 1370, 1483, 64),\n",
    "    'assists': (3, 1, 0, 53, 0, 0, 73, 88, 79, 82, 89, 0, 58, 0, 75, 64, 80, 0, 82, 82, 74, 100, 4),\n",
    "    'errors': (4, 0, 0, 13, 0, 2, 15, 15, 18, 9, 15, 0, 13, 1, 18, 9, 8, 0, 15, 9, 16, 14, 2),\n",
    "    'double_plays': (4, 0, 0, 72, 0, 0, 87, 108, 112, 135, 109, 0, 120, 0, 101, 102, 126, 0, 96, 128, 113, 157, 5),\n",
    "    # 'fielding_percentage': (PO + A) / (PA + A + E)\n",
    "}\n",
    "\n",
    "fielding_df = pd.DataFrame.from_dict(fielding_data)\n",
    "\n",
    "# Calculate fielding percentage:\n",
    "fielding_df['fielding_percentage'] = np.round(fielding_df['chances']  / fielding_df['total_chances'], 3)\n",
    "season_fielding_percentage = fielding_df['fielding_percentage'].tolist()\n",
    "\n",
    "# Transform any NaN values in the 'fielding_percentage' column to a default value of 0.000\n",
    "fielding_df['fielding_percentage'].fillna(0.000, inplace=True)\n",
    "\n",
    "fielding_df.to_csv('fielding_data.csv', header=True, index=False)"
   ]
  },
  {
   "cell_type": "code",
   "execution_count": 87,
   "metadata": {},
   "outputs": [],
   "source": [
    "salary_data = {\n",
    "    'season': tuple(year for year in range(start_year, end_year + 1)),\n",
    "    'salary': (2400, 2750, 3750, 6500, 8000, 25000, 25000, 25000, 25000, 25000, 25000, 25000, 23000, 23000, 31000, 31000, 36000)\n",
    "}\n",
    "\n",
    "salary_df = pd.DataFrame.from_dict(salary_data)\n",
    "\n",
    "salary_df.to_csv('salary_data.csv', header=True, index=False)"
   ]
  },
  {
   "cell_type": "markdown",
   "metadata": {},
   "source": [
    "### Calculate batting average"
   ]
  },
  {
   "cell_type": "code",
   "execution_count": 88,
   "metadata": {},
   "outputs": [],
   "source": [
    "hitting_df['batting_avg'] = np.round(hitting_df['hits'] / hitting_df['at_bats'], 3)\n",
    "\n",
    "season_batting_avg = hitting_df['batting_avg'].tolist()"
   ]
  },
  {
   "cell_type": "markdown",
   "metadata": {},
   "source": [
    "### Calculate on base percentage"
   ]
  },
  {
   "cell_type": "code",
   "execution_count": null,
   "metadata": {},
   "outputs": [],
   "source": []
  },
  {
   "cell_type": "markdown",
   "metadata": {},
   "source": [
    "### Calculate slugging percentage"
   ]
  },
  {
   "cell_type": "code",
   "execution_count": null,
   "metadata": {},
   "outputs": [],
   "source": []
  }
 ],
 "metadata": {
  "kernelspec": {
   "display_name": "Python 3",
   "language": "python",
   "name": "python3"
  },
  "language_info": {
   "codemirror_mode": {
    "name": "ipython",
    "version": 3
   },
   "file_extension": ".py",
   "mimetype": "text/x-python",
   "name": "python",
   "nbconvert_exporter": "python",
   "pygments_lexer": "ipython3",
   "version": "3.11.3"
  },
  "orig_nbformat": 4
 },
 "nbformat": 4,
 "nbformat_minor": 2
}
