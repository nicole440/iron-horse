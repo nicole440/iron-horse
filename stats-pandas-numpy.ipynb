{
 "cells": [
  {
   "cell_type": "markdown",
   "metadata": {},
   "source": [
    "## Lou Gehrig's Career (using Pandas & NumPy)"
   ]
  },
  {
   "cell_type": "code",
   "execution_count": null,
   "metadata": {},
   "outputs": [],
   "source": [
    "import pandas as pd\n",
    "import numpy as np"
   ]
  },
  {
   "cell_type": "code",
   "execution_count": null,
   "metadata": {},
   "outputs": [],
   "source": [
    "start_year = 1923\n",
    "end_year = 1939\n",
    "\n",
    "start_age = 20\n",
    "end_age = 36\n",
    "\n",
    "data = {\n",
    "    'season': tuple(year for year in range(start_year, end_year + 1)),\n",
    "    'age': tuple(age for age in range(start_age, end_age + 1)),\n",
    "    'games_played': (13, 10, 126, 155, 155, 154, 154, 154, 155, 156, 152, 154, 149, 155, 157, 157, 8),\n",
    "    'at_bats': (26, 12, 437, 572, 584, 562, 553, 581, 619, 596, 593, 579, 535, 579, 569, 576, 28),\n",
    "    'runs': (6, 2, 73, 135, 149, 139, 127, 143, 163, 138, 138, 128, 125, 167, 138, 115, 2),\n",
    "    'hits': (11, 6, 129, 179, 218, 210, 166, 220, 211, 208, 198, 210, 176, 205, 200, 170, 4),\n",
    "    'doubles': (4, 1, 23, 47, 52, 47, 32, 42, 31, 42, 41, 40, 26, 37, 37, 32, 0),\n",
    "    'triples': (1, 0, 10, 20, 18, 13, 10, 17, 15, 9, 12, 6, 10, 7, 9, 6, 0),\n",
    "    'homeruns': (1, 0, 20, 16, 47, 27, 35, 41, 46, 34, 32, 49, 30, 49, 37, 29, 0),\n",
    "    'grand_slams': (0, 0, 1, 0, 2, 1, 2, 2, 3, 2, 0, 4, 2, 2, 1, 1, 0),\n",
    "    'rbis': (9, 5, 68, 112, 175, 142, 125, 174, 184, 151, 139, 165, 119, 152, 159, 114, 1),\n",
    "    'bb_walks': (2, 1, 46, 105, 109, 95, 122, 101, 117, 108, 92, 109, 132, 130, 127, 107, 5),\n",
    "    'ibb_intentional_walks': (0, 0, 3, 0, 9, 3, 9, 3, 14, 7, 4, 13, 21, 9, 13, 6, 0),\n",
    "    'strikeouts': (5, 3, 49, 73, 84, 69, 68, 63, 56, 38, 42, 31, 38, 46, 49, 75, 1),\n",
    "    'sacrifice_flies': (0, 0, 0, 0, 0, 0, 0, 0, 0, 0, 0, 0, 0, 0, 0, 0, 0),\n",
    "    'hit_by_pitch': (0, 0, 2, 1, 3, 4, 5, 3, 0, 3, 1, 2, 5, 7, 4, 5, 0)\n",
    "}\n",
    "\n",
    "df = pd.DataFrame.from_dict(data)\n",
    "print(df)"
   ]
  },
  {
   "cell_type": "markdown",
   "metadata": {},
   "source": [
    "### Calculate batting average"
   ]
  },
  {
   "cell_type": "code",
   "execution_count": null,
   "metadata": {},
   "outputs": [],
   "source": [
    "df['batting_avg'] = np.round(df['hits'] / df['at_bats'], 3)\n",
    "\n",
    "season_batting_avg = df['batting_avg'].tolist()\n",
    "\n",
    "print(season_batting_avg)"
   ]
  },
  {
   "cell_type": "markdown",
   "metadata": {},
   "source": [
    "### Calculate on base percentage"
   ]
  },
  {
   "cell_type": "code",
   "execution_count": null,
   "metadata": {},
   "outputs": [],
   "source": []
  },
  {
   "cell_type": "markdown",
   "metadata": {},
   "source": [
    "### Calculate slugging percentage"
   ]
  },
  {
   "cell_type": "code",
   "execution_count": null,
   "metadata": {},
   "outputs": [],
   "source": []
  }
 ],
 "metadata": {
  "kernelspec": {
   "display_name": "Python 3",
   "language": "python",
   "name": "python3"
  },
  "language_info": {
   "codemirror_mode": {
    "name": "ipython",
    "version": 3
   },
   "file_extension": ".py",
   "mimetype": "text/x-python",
   "name": "python",
   "nbconvert_exporter": "python",
   "pygments_lexer": "ipython3",
   "version": "3.11.3"
  },
  "orig_nbformat": 4
 },
 "nbformat": 4,
 "nbformat_minor": 2
}
