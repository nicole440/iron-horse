{
 "cells": [
  {
   "cell_type": "markdown",
   "metadata": {},
   "source": [
    "## Lou Gehrig's Career (using Pandas & NumPy)"
   ]
  },
  {
   "cell_type": "code",
   "execution_count": 5,
   "metadata": {},
   "outputs": [],
   "source": [
    "import pandas as pd\n",
    "import numpy as np"
   ]
  },
  {
   "cell_type": "code",
   "execution_count": 6,
   "metadata": {},
   "outputs": [
    {
     "name": "stdout",
     "output_type": "stream",
     "text": [
      "    season  age  games_played  at_bats  runs  hits  doubles  triples   \n",
      "0     1923   20            13       26     6    11        4        1  \\\n",
      "1     1924   21            10       12     2     6        1        0   \n",
      "2     1925   22           126      437    73   129       23       10   \n",
      "3     1926   23           155      572   135   179       47       20   \n",
      "4     1927   24           155      584   149   218       52       18   \n",
      "5     1928   25           154      562   139   210       47       13   \n",
      "6     1929   26           154      553   127   166       32       10   \n",
      "7     1930   27           154      581   143   220       42       17   \n",
      "8     1931   28           155      619   163   211       31       15   \n",
      "9     1932   29           156      596   138   208       42        9   \n",
      "10    1933   30           152      593   138   198       41       12   \n",
      "11    1934   31           154      579   128   210       40        6   \n",
      "12    1935   32           149      535   125   176       26       10   \n",
      "13    1936   33           155      579   167   205       37        7   \n",
      "14    1937   34           157      569   138   200       37        9   \n",
      "15    1938   35           157      576   115   170       32        6   \n",
      "16    1939   36             8       28     2     4        0        0   \n",
      "\n",
      "    homeruns  grand_slams  rbis  bb_walks  ibb_intentional_walks  strikeouts   \n",
      "0          1            0     9         2                      0           5  \\\n",
      "1          0            0     5         1                      0           3   \n",
      "2         20            1    68        46                      3          49   \n",
      "3         16            0   112       105                      0          73   \n",
      "4         47            2   175       109                      9          84   \n",
      "5         27            1   142        95                      3          69   \n",
      "6         35            2   125       122                      9          68   \n",
      "7         41            2   174       101                      3          63   \n",
      "8         46            3   184       117                     14          56   \n",
      "9         34            2   151       108                      7          38   \n",
      "10        32            0   139        92                      4          42   \n",
      "11        49            4   165       109                     13          31   \n",
      "12        30            2   119       132                     21          38   \n",
      "13        49            2   152       130                      9          46   \n",
      "14        37            1   159       127                     13          49   \n",
      "15        29            1   114       107                      6          75   \n",
      "16         0            0     1         5                      0           1   \n",
      "\n",
      "    sacrifice_flies  hit_by_pitch  \n",
      "0                 0             0  \n",
      "1                 0             0  \n",
      "2                 0             2  \n",
      "3                 0             1  \n",
      "4                 0             3  \n",
      "5                 0             4  \n",
      "6                 0             5  \n",
      "7                 0             3  \n",
      "8                 0             0  \n",
      "9                 0             3  \n",
      "10                0             1  \n",
      "11                0             2  \n",
      "12                0             5  \n",
      "13                0             7  \n",
      "14                0             4  \n",
      "15                0             5  \n",
      "16                0             0  \n"
     ]
    }
   ],
   "source": [
    "start_year = 1923\n",
    "end_year = 1939\n",
    "\n",
    "start_age = 20\n",
    "end_age = 36\n",
    "\n",
    "data = {\n",
    "    'season': tuple(year for year in range(start_year, end_year + 1)),\n",
    "    'age': tuple(age for age in range(start_age, end_age + 1)),\n",
    "    'games_played': (13, 10, 126, 155, 155, 154, 154, 154, 155, 156, 152, 154, 149, 155, 157, 157, 8),\n",
    "    'at_bats': (26, 12, 437, 572, 584, 562, 553, 581, 619, 596, 593, 579, 535, 579, 569, 576, 28),\n",
    "    'runs': (6, 2, 73, 135, 149, 139, 127, 143, 163, 138, 138, 128, 125, 167, 138, 115, 2),\n",
    "    'hits': (11, 6, 129, 179, 218, 210, 166, 220, 211, 208, 198, 210, 176, 205, 200, 170, 4),\n",
    "    'doubles': (4, 1, 23, 47, 52, 47, 32, 42, 31, 42, 41, 40, 26, 37, 37, 32, 0),\n",
    "    'triples': (1, 0, 10, 20, 18, 13, 10, 17, 15, 9, 12, 6, 10, 7, 9, 6, 0),\n",
    "    'homeruns': (1, 0, 20, 16, 47, 27, 35, 41, 46, 34, 32, 49, 30, 49, 37, 29, 0),\n",
    "    'grand_slams': (0, 0, 1, 0, 2, 1, 2, 2, 3, 2, 0, 4, 2, 2, 1, 1, 0),\n",
    "    'rbis': (9, 5, 68, 112, 175, 142, 125, 174, 184, 151, 139, 165, 119, 152, 159, 114, 1),\n",
    "    'bb_walks': (2, 1, 46, 105, 109, 95, 122, 101, 117, 108, 92, 109, 132, 130, 127, 107, 5),\n",
    "    'ibb_intentional_walks': (0, 0, 3, 0, 9, 3, 9, 3, 14, 7, 4, 13, 21, 9, 13, 6, 0),\n",
    "    'strikeouts': (5, 3, 49, 73, 84, 69, 68, 63, 56, 38, 42, 31, 38, 46, 49, 75, 1),\n",
    "    'sacrifice_flies': (0, 0, 0, 0, 0, 0, 0, 0, 0, 0, 0, 0, 0, 0, 0, 0, 0),\n",
    "    'hit_by_pitch': (0, 0, 2, 1, 3, 4, 5, 3, 0, 3, 1, 2, 5, 7, 4, 5, 0)\n",
    "}\n",
    "\n",
    "df = pd.DataFrame.from_dict(data)\n",
    "print(df)"
   ]
  },
  {
   "cell_type": "code",
   "execution_count": 7,
   "metadata": {},
   "outputs": [],
   "source": [
    "# Write data to CSV file\n",
    "df.to_csv('career_data.csv', index=False)"
   ]
  },
  {
   "cell_type": "markdown",
   "metadata": {},
   "source": [
    "### Calculate batting average"
   ]
  },
  {
   "cell_type": "code",
   "execution_count": 8,
   "metadata": {},
   "outputs": [
    {
     "name": "stdout",
     "output_type": "stream",
     "text": [
      "[0.423, 0.5, 0.295, 0.313, 0.373, 0.374, 0.3, 0.379, 0.341, 0.349, 0.334, 0.363, 0.329, 0.354, 0.351, 0.295, 0.143]\n"
     ]
    }
   ],
   "source": [
    "df['batting_avg'] = np.round(df['hits'] / df['at_bats'], 3)\n",
    "\n",
    "season_batting_avg = df['batting_avg'].tolist()\n",
    "\n",
    "print(season_batting_avg)"
   ]
  },
  {
   "cell_type": "markdown",
   "metadata": {},
   "source": [
    "### Calculate on base percentage"
   ]
  },
  {
   "cell_type": "code",
   "execution_count": null,
   "metadata": {},
   "outputs": [],
   "source": []
  },
  {
   "cell_type": "markdown",
   "metadata": {},
   "source": [
    "### Calculate slugging percentage"
   ]
  },
  {
   "cell_type": "code",
   "execution_count": null,
   "metadata": {},
   "outputs": [],
   "source": []
  }
 ],
 "metadata": {
  "kernelspec": {
   "display_name": "Python 3",
   "language": "python",
   "name": "python3"
  },
  "language_info": {
   "codemirror_mode": {
    "name": "ipython",
    "version": 3
   },
   "file_extension": ".py",
   "mimetype": "text/x-python",
   "name": "python",
   "nbconvert_exporter": "python",
   "pygments_lexer": "ipython3",
   "version": "3.11.3"
  },
  "orig_nbformat": 4
 },
 "nbformat": 4,
 "nbformat_minor": 2
}
